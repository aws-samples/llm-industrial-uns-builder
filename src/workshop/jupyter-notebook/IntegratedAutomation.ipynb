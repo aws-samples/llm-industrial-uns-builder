{
 "cells": [
  {
   "cell_type": "markdown",
   "id": "d5399db5",
   "metadata": {},
   "source": [
    "ensure the required libraries are installed and import plcsim_library and load the C# dll"
   ]
  },
  {
   "cell_type": "code",
   "execution_count": 1,
   "id": "59e803db-c787-4264-a522-092084cec896",
   "metadata": {
    "scrolled": true
   },
   "outputs": [
    {
     "name": "stdout",
     "output_type": "stream",
     "text": [
      "Requirement already satisfied: pythonnet in c:\\program files\\python312\\lib\\site-packages (3.0.4)\n",
      "Requirement already satisfied: ec2_metadata in c:\\program files\\python312\\lib\\site-packages (2.13.0)\n",
      "Requirement already satisfied: clr-loader<0.3.0,>=0.2.6 in c:\\program files\\python312\\lib\\site-packages (from pythonnet) (0.2.6)\n",
      "Requirement already satisfied: requests in c:\\program files\\python312\\lib\\site-packages (from ec2_metadata) (2.32.3)\n",
      "Requirement already satisfied: cffi>=1.13 in c:\\program files\\python312\\lib\\site-packages (from clr-loader<0.3.0,>=0.2.6->pythonnet) (1.17.1)\n",
      "Requirement already satisfied: charset-normalizer<4,>=2 in c:\\program files\\python312\\lib\\site-packages (from requests->ec2_metadata) (3.3.2)\n",
      "Requirement already satisfied: idna<4,>=2.5 in c:\\program files\\python312\\lib\\site-packages (from requests->ec2_metadata) (3.10)\n",
      "Requirement already satisfied: urllib3<3,>=1.21.1 in c:\\program files\\python312\\lib\\site-packages (from requests->ec2_metadata) (2.2.3)\n",
      "Requirement already satisfied: certifi>=2017.4.17 in c:\\program files\\python312\\lib\\site-packages (from requests->ec2_metadata) (2024.8.30)\n",
      "Requirement already satisfied: pycparser in c:\\program files\\python312\\lib\\site-packages (from cffi>=1.13->clr-loader<0.3.0,>=0.2.6->pythonnet) (2.22)\n"
     ]
    }
   ],
   "source": [
    "import sys\n",
    "!py -m pip install pythonnet ec2_metadata\n",
    "\n",
    "import plcsim_helper as plcsim\n",
    "plcsim.load_plcsim_library()"
   ]
  },
  {
   "cell_type": "markdown",
   "id": "e7397eb7",
   "metadata": {},
   "source": [
    "create plcs for all ec2 secondary network interfaces\n",
    "\n",
    "as *Siemens S7 PLCSim* runs with a trial license you need to accept the first time the trial license popup and then also accept a popup for each plc that it uses a trial license\n",
    "**Keep in mind the popups might open behind the notebook but they block the process so you need to click them**"
   ]
  },
  {
   "cell_type": "code",
   "execution_count": 2,
   "id": "9b7afa4c-4c1d-4af6-af8e-c8d332712c40",
   "metadata": {},
   "outputs": [],
   "source": [
    "plcsim.create_plcs()"
   ]
  },
  {
   "cell_type": "markdown",
   "id": "9297a2ae",
   "metadata": {},
   "source": [
    "now lets deploy the plcs via TIA portal"
   ]
  }
 ],
 "metadata": {
  "kernelspec": {
   "display_name": "Python 3 (ipykernel)",
   "language": "python",
   "name": "python3"
  },
  "language_info": {
   "codemirror_mode": {
    "name": "ipython",
    "version": 3
   },
   "file_extension": ".py",
   "mimetype": "text/x-python",
   "name": "python",
   "nbconvert_exporter": "python",
   "pygments_lexer": "ipython3",
   "version": "3.12.4"
  }
 },
 "nbformat": 4,
 "nbformat_minor": 5
}
