{
 "cells": [
  {
   "cell_type": "markdown",
   "id": "f192698a",
   "metadata": {},
   "source": [
    "# Set-up Siemens PLCs and TIA Portal to export process and metadata\n",
    "\n",
    "\n",
    "### ⛳ Objective\n",
    "\n",
    "The goal for this Jupyter Notebook are to understand and achieve the following:\n",
    "1. Access a TIA Portal project data using TIA Openness API\n",
    "2. Create an import of PLC Code Datablocks (DBs)\n",
    "3. Additionally, you will also import other project metadata\n",
    "\n",
    "The exported data will form the basis of the configuration of your AWS IoT SiteWise assets and Shopfloor connectivity (SFC) framework later in this workshop\n",
    "\n",
    "### 🗝️ Key Concepts and refreshers\n",
    "1. **Siemens TIA Portal**: The [Totally Integrated Automation (TIA) Portal](https://new.siemens.com/global/en/products/automation/industry-software/automation-software/tia-portal.html) is an engineering framework by Siemens that integrates automation and digitalization for designing, configuring, and commissioning automation systems.     \n",
    "2. **TIA Openness API**: The [TIA Openness API](https://support.industry.siemens.com/cs/document/109759162/tia-portal-openess-interface-description) is an interface provided by Siemens that allows for programmatic control and automation of TIA Portal projects, enabling custom tool integration and automated engineering workflows.  \n",
    "3. **Siemens PLCSim Advanced**: [Siemens PLCSim Advanced](https://new.siemens.com/global/en/products/automation/systems/industrial/plcsim-advanced.html) is a software tool that simulates Siemens PLCs, enabling virtual commissioning, testing, and troubleshooting of automation programs without physical hardware.  \n",
    "   \n"
   ]
  },
  {
   "cell_type": "markdown",
   "id": "cbd1eea5",
   "metadata": {},
   "source": [
    "### &#x2699; Configuration \n",
    "This section is to import all the helper python pacckages needed to use the notebook\n",
    "\n",
    "### &#x1F4DA; Libraries and Helper Functions"
   ]
  },
  {
   "cell_type": "code",
   "execution_count": null,
   "id": "59e803db-c787-4264-a522-092084cec896",
   "metadata": {
    "scrolled": true
   },
   "outputs": [],
   "source": [
    "%%capture config_logs\n",
    "\n",
    "!py -m pip install pythonnet ec2_metadata pickleshare\n",
    "\n",
    "import sys, json\n",
    "import plcsim_helper as plcsim\n",
    "from scripts.s7tia.tia_openness_export import *\n",
    "import Siemens.Engineering as tia\n",
    "import Siemens.Engineering.Compiler as comp\n",
    "import Siemens.Engineering.Download as dl\n",
    "\n",
    "from pathlib import Path\n",
    "from System.IO import DirectoryInfo, FileInfo\n",
    "\n",
    "\n",
    "plcsim.load_plcsim_library()"
   ]
  },
  {
   "cell_type": "markdown",
   "id": "e7397eb7",
   "metadata": {},
   "source": [
    "## 1. Check Simulated PLCs are available and online  \n",
    "\n",
    "For each of the five network interfaces in this Windows instance, a simulated PLC is created and the Network Interface Card (NIC) is attached to it. We will use this network card to connect to the simulted instance and interact with it.\n",
    "\n",
    "<div style=\"padding-left: 2em;\">&#x2611; Make sure you have 5 Simulated PLCs and they are active. This can also be checked in the PLCSim GUI</div>\n",
    " "
   ]
  },
  {
   "cell_type": "code",
   "execution_count": null,
   "id": "2881bd88",
   "metadata": {},
   "outputs": [],
   "source": [
    "plcsim.check_all_plcs()"
   ]
  },
  {
   "cell_type": "markdown",
   "id": "7b46e82b",
   "metadata": {},
   "source": [
    "<div class=\"alert alert-block alert-info\">\n",
    "<span style=\"font-size: 1.5em;\">⚠️</span> If you do not see 5 PLCs detected and online, then execute cell #1 in Troubleshooting section\n",
    "</div>"
   ]
  },
  {
   "cell_type": "markdown",
   "id": "2e1aa88f",
   "metadata": {},
   "source": [
    "## 2. Extract data from TIA Portal PLC Project\n",
    "\n",
    "In this step we will extract the metadata from the PLC Code and also the configuration. This extracted data will be the foundation on which we will create our factory's asset model abstraction in AWS\n",
    "\n",
    "### 2.1 Pre-requisite for data extraction from TIA Portal:\n",
    "\n",
    "Execute the next cell to make sure pre-requisites for TIA Portal exports are fulfilled by checking the following:\n",
    "<div style=\"padding-left: 2em;\">&#x2611; TIA Portal is opened</div>\n",
    "<div style=\"padding-left: 2em;\">&#x2611; PLC Project is loaded</div>\n",
    "<div style=\"padding-left: 2em;\">&#x2611; TIA Openness connection is established</div>"
   ]
  },
  {
   "cell_type": "code",
   "execution_count": null,
   "id": "7f392494",
   "metadata": {},
   "outputs": [],
   "source": [
    "try:\n",
    "    processes = tia.TiaPortal.GetProcesses()                    # Making a list of all running TIA processes\n",
    "    process = processes[0]                                      # Just taking the first process as an example\n",
    "    mytia = process.Attach()                                    # Establishing connection with the TIA \n",
    "    myproject = mytia.Projects[0]                               # Establishing connection with the TIA Project\n",
    "except Exception as e:\n",
    "    print(\"Unfortunately, This check did not pass!\")\n",
    "    print (f\"\\nReason:\\n{e}\")"
   ]
  },
  {
   "cell_type": "markdown",
   "id": "f37c5d3e",
   "metadata": {},
   "source": [
    "<div class=\"alert alert-block alert-info\">\n",
    "<span style=\"font-size: 1.5em;\">⚠️</span> If your checks failed, then execute cell #2 in the Troubleshooting section and repeat this step\n",
    "</div>"
   ]
  },
  {
   "cell_type": "markdown",
   "id": "0df0e986",
   "metadata": {},
   "source": [
    "### 2.3 Extract metadata from the TIA Portal Project\n",
    "\n",
    "Now, from the TIA portal project we will use all the metadata that we have extracted to create **Unified Namespace (UNS)** model in the following chapter"
   ]
  },
  {
   "cell_type": "code",
   "execution_count": null,
   "id": "74f59529",
   "metadata": {},
   "outputs": [],
   "source": [
    "\n",
    "with open(\"tia_portal_meta.txt\", \"w\") as file:                          # Location of the extracted data\n",
    "    for device in myproject.Devices :\n",
    "        #print(device.Name)\n",
    "        for deviceItem in device.DeviceItems:\n",
    "            attribute_names = [\"Comment\"]                               # Extracting the comment field from all PLCs in the project\n",
    "\n",
    "            for attribute_name in attribute_names:\n",
    "                attribute_value = deviceItem.GetAttribute(attribute_name)\n",
    "        \n",
    "        print(f\"{device.Name}: {attribute_value}\")    \n",
    "        print(f\"{device.Name}: {attribute_value}\", file=file)\n",
    "    \n",
    "    "
   ]
  },
  {
   "cell_type": "markdown",
   "id": "8c756785",
   "metadata": {},
   "source": [
    "The output is a raw summary of certain project related information that we have extracted from the PLC project <span style=\"font-family: monospace;\">reInventAutoWorkshop_V19</span>\n",
    "\n",
    "\n",
    "<div class=\"alert alert-block alert-info padding-left: 2em;\">\n",
    "<span style=\"font-size: 1.5em;\">💡</span>  To locate this data in TIA Project, go to <span style=\"font-family: monospace;\">PLC Device->LeftClick:Properties->General Info</span> and browse through what is available\n",
    "</div>"
   ]
  },
  {
   "cell_type": "markdown",
   "id": "86e221e9",
   "metadata": {},
   "source": [
    "### 2.3 Export all available PLC data points from TIA Project\n",
    "\n",
    "By executing the next cell, you will create an export of the TIA Project Data Blocks (DBs). This is where he process data in the PLCs are configured and stored. We are using the **TIA Openness API** to extract this data.\n",
    "\n",
    "<div style=\"padding-left: 2em;\">\n",
    "&#x2611; Check the exported data by going to <span style=\"font-family: monospace;\">C:/Users/Administrator/Documents/TIA-Export</span> and there you will find 5 folders one for each PLC with .xml files and a <span style=\"font-family: monospace;\">project_automationml.aml</span> file.\n",
    "</div>"
   ]
  },
  {
   "cell_type": "code",
   "execution_count": null,
   "id": "821864d4",
   "metadata": {},
   "outputs": [],
   "source": [
    "base_export_dir = Path(r\"C://Users//Administrator//Documents//TIA-Export\")      # Location of the exported data\n",
    "\n",
    "export_automationml(base_export_dir, myproject)\n",
    "export_all_groups_and_blocks_from_all_plcs(base_export_dir, myproject)\n"
   ]
  },
  {
   "cell_type": "markdown",
   "id": "26572870",
   "metadata": {},
   "source": [
    "<div>\n",
    "<span style=\"font-size: 1.5em;\">🚀</span><b> Great Job!</b> You have now exported all S7 PLC Metadata using the TIA Openness API. Now its time to create metadata schema for models and assets in AWS IoT SiteWise and conguration for connectivity using SFC.\n",
    "<p align=\"right\">\n",
    "        ⏭️<em> Now let's continue with Notebook 02 <em>\n",
    "    </p></div>"
   ]
  },
  {
   "cell_type": "markdown",
   "id": "d46750d3",
   "metadata": {},
   "source": [
    "## 🛠️ Troubleshooting"
   ]
  },
  {
   "cell_type": "markdown",
   "id": "467dec22",
   "metadata": {},
   "source": [
    "1. To start or reset simulated PLCs to factory settings, please execute next step and the execute the first step. "
   ]
  },
  {
   "cell_type": "code",
   "execution_count": null,
   "id": "7b0a10b3",
   "metadata": {},
   "outputs": [],
   "source": [
    "!powershell.exe -Command \"Set-Location -Path C:\\Users\\Administrator\\Desktop ; ./start_plcs.bat\""
   ]
  },
  {
   "cell_type": "markdown",
   "id": "fed074a6",
   "metadata": {},
   "source": [
    "2. To start/restart TIA Portal, execute the cell below"
   ]
  },
  {
   "cell_type": "code",
   "execution_count": null,
   "id": "0bd76d3a",
   "metadata": {},
   "outputs": [],
   "source": [
    "!powershell.exe -Command \"Set-Location -Path C:\\Users\\Administrator\\Desktop ; ./start_tia.bat\""
   ]
  }
 ],
 "metadata": {
  "kernelspec": {
   "display_name": "Python 3",
   "language": "python",
   "name": "python3"
  },
  "language_info": {
   "codemirror_mode": {
    "name": "ipython",
    "version": 3
   },
   "file_extension": ".py",
   "mimetype": "text/x-python",
   "name": "python",
   "nbconvert_exporter": "python",
   "pygments_lexer": "ipython3",
   "version": "3.12.4"
  }
 },
 "nbformat": 4,
 "nbformat_minor": 5
}
