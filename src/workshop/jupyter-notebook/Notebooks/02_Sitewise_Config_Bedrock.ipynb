{
 "cells": [
  {
   "cell_type": "markdown",
   "metadata": {},
   "source": [
    "# Generating Artifacts using Generative AI\n",
    "\n",
    "This notebook demonstrates how to automate the creation of industrial asset definitions in [AWS IoT SiteWise](https://aws.amazon.com/iot-sitewise/) and [Shop Floor Connectivity (SFC)](https://github.com/aws-samples/shopfloor-connectivity) configurations using generative AI. \\\n",
    "We will convert human-readable descriptions of the reInvent Car Factory's facilities into formatted asset definitions and data collection configurations.\n",
    "\n",
    "### ⛳ Goal\n",
    "\n",
    "1. **AWS IoT SiteWise Metadata Generation**: We'll use [Amazon Bedrock's Converse API](https://docs.aws.amazon.com/bedrock/latest/userguide/conversation-inference-call.html) with Anthropic's Claude model to generate a Metadata Transfer Job Schema for AWS IoT SiteWise.\n",
    "This approach allows for rapid, scalable creation of complex asset models and hierarchies.\n",
    "2. **SFC Configuration Generation**: Leveraging the same AI capabilities, we'll demonstrate how to automatically generate configurations for the Shopfloor Connectivity framework.\n",
    "\n",
    "By the end of this notebook, you'll have a practical understanding of how generative AI can be applied to automate the creation of industrial asset definitions and data collection configurations. \\\n",
    "This approach demonstrates a powerful method for streamlining the setup and management of complex industrial data environments, potentially saving significant time and reducing errors in the process.\n",
    "\n",
    "### 🗝️ Key concept refreshers\n",
    "\n",
    "Before we dive into the practical application, let's quickly review the essential concepts:\n",
    "\n",
    "1. **Asset Model**: A template defining the structure and characteristics of industrial equipment or processes.\n",
    "2. **Asset**: A specific instance of an asset model, representing actual equipment or processes.\n",
    "3. **Asset Hierarchy**: The organizational structure showing relationships between assets.\n",
    "4. **[Metadata Transfer Job Schema](https://docs.aws.amazon.com/iot-sitewise/latest/userguide/bulk-operations-schema.html)**: Used to define assets and their relationships for bulk import.\n",
    "5. **[Amazon Bedrock Tool Feature]((https://docs.aws.amazon.com/bedrock/latest/userguide/tool-use.html))**: Provides specific context to the AI model for accurate task completion.\n",
    "6. **AWS IoT SiteWise**: A managed service for collecting, organizing, and analyzing industrial equipment data.\n",
    "7. **Generative AI**: AI capable of generating new content based on provided inputs and context.\n",
    "8. **Shop Floor Connectivity**: A component that facilitates data ingestion from industrial equipment to the cloud.\n",
    "9. **Configuration Files**: Specifications that define how the Shop Floor Connectivity component should collect and transmit data.\n",
    "\n"
   ]
  },
  {
   "cell_type": "markdown",
   "metadata": {},
   "source": [
    "<div class=\"alert alert-block alert-warning\">\n",
    "<b>⚠️</b> Generative AI produces non-deterministic output. Your results may vary from the demonstrated examples.\n",
    "</div>"
   ]
  },
  {
   "cell_type": "markdown",
   "metadata": {},
   "source": [
    "## 1. Amazon Bedrock configuration and setup\n",
    "\n",
    "In this section, we wil do some pre-work on the set-up needed to interract with Amazon Bedrock."
   ]
  },
  {
   "cell_type": "markdown",
   "metadata": {},
   "source": [
    "### 1.1 Set-up the AWS Client and configurations.\n",
    "\n",
    "The following kernel sets up the necessary AWS client configuration by importing required libraries and retrieving regional metadata from an EC2 instance. It then establishes a connection to Amazon Bedrock service by creating a session and initializing a specific service client for further API interactions."
   ]
  },
  {
   "cell_type": "code",
   "execution_count": null,
   "metadata": {},
   "outputs": [],
   "source": [
    "import boto3,json\n",
    "from ec2_metadata import ec2_metadata\n",
    "\n",
    "aws_region = ec2_metadata.region\n",
    "session = boto3.Session()\n",
    "bedrock = session.client(service_name='bedrock-runtime', region_name=\"us-west-2\")"
   ]
  },
  {
   "cell_type": "markdown",
   "metadata": {},
   "source": [
    "### 1.2 Amazon Bedrock function for tool-directed AI conversations\n",
    "\n",
    "This function implements a structured interaction with Amazon Bedrock's Claude 3 Sonnet model, accepting a prompt, context, and tool_name as inputs to generate AI responses through the converse API. \n",
    "The function processes the model's response by extracting specific tool-related content from the nested JSON structure and returns the tool's input dictionary as the final result."
   ]
  },
  {
   "cell_type": "code",
   "execution_count": null,
   "metadata": {},
   "outputs": [],
   "source": [
    "def call_bedrock (prompt,content,tool_object):\n",
    "    \"\"\"\n",
    "    Makes a directed call to Amazon Bedrock's Claude 3 Haiku model using the Converse API's in Bedrock.\n",
    "\n",
    "    Args:\n",
    "        prompt (str): The main instruction or question to send to the model\n",
    "        content (str): The message content\n",
    "        tool_object: The tool object for the Bedrock Converse API\n",
    "\n",
    "    Returns:\n",
    "        dict: The input parameters generated by the model for the specified tool use\n",
    "\n",
    "    Example:\n",
    "        response = call_bedrock(\n",
    "            prompt=\"Analyze this data\",\n",
    "            context=\"Sample data content\",\n",
    "            tool_name=\"data_analyzer\",\n",
    "            tool_object=tool_config\n",
    "        )\n",
    "\n",
    "    Notes:\n",
    "        - Uses Claude 3 Haiku model with deterministic output (temperature=0)\n",
    "        - Maximum response length is set to 2000 tokens\n",
    "        - Forces the model to use the specified tool through toolChoice configuration\n",
    "        - Extracts the tool use input parameters from the model's response\n",
    "    \"\"\"\n",
    "    message = {\n",
    "    \"role\": \"user\",\n",
    "    \"content\": [\n",
    "        { \"text\": f\"<content>{content}</content>\" },\n",
    "        { \"text\": prompt }\n",
    "    ],\n",
    "    }\n",
    "\n",
    "    response = bedrock.converse(\n",
    "        modelId=\"anthropic.claude-3-haiku-20240307-v1:0\",\n",
    "        messages=[message],\n",
    "        inferenceConfig={\n",
    "            \"maxTokens\": 2000, \n",
    "            \"temperature\": 0\n",
    "        },\n",
    "        toolConfig={\n",
    "            \"tools\": tool_object,\n",
    "            \"toolChoice\": {\n",
    "                \"tool\": {\n",
    "                    \"name\": tool_object[0][\"toolSpec\"][\"name\"] #get the name of the tool_object\n",
    "                }\n",
    "            }\n",
    "        }\n",
    "    )\n",
    "    response_message = response['output']['message']\n",
    "    response_content_blocks = response_message['content']\n",
    "    # Gets first content block containing 'toolUse' or returns None if not found\n",
    "    content_block = next((block for block in response_content_blocks if 'toolUse' in block), None)\n",
    "    tool_use_block = content_block['toolUse']\n",
    "    return tool_use_block['input'] # containing the genAI response"
   ]
  },
  {
   "cell_type": "markdown",
   "metadata": {},
   "source": [
    "In the following code we define a function for nicely visualizing the structures of the generated JSON files. These are helper functions, you may execute the kernel, and proceed to the next step."
   ]
  },
  {
   "cell_type": "code",
   "execution_count": null,
   "metadata": {},
   "outputs": [],
   "source": [
    "from anytree import Node, RenderTree\n",
    "from anytree.exporter import DotExporter\n",
    "\n",
    "\n",
    "def create_tree(data, parent=None):\n",
    "    \"\"\"Recursively builds a tree structure from nested data using anytree.Node\"\"\"\n",
    "    \n",
    "    if isinstance(data, dict):\n",
    "        for key, value in data.items():\n",
    "            node = Node(f\"{key}\", parent=parent)\n",
    "            create_tree(value, node)\n",
    "    elif isinstance(data, list):\n",
    "        for i, item in enumerate(data):\n",
    "            node = Node(f\"Item {i}\", parent=parent)\n",
    "            create_tree(item, node)\n",
    "    else:\n",
    "        Node(f\"{data}\", parent=parent)\n",
    "\n",
    "def visualize_json(json_data):\n",
    "    \"\"\"Creates and prints an ASCII tree visualization of JSON/dict data structure\"\"\"\n",
    "    # Parse JSON if it's a string, otherwise use the data as is\n",
    "    if isinstance(json_data, str):\n",
    "        data = json.loads(json_data)\n",
    "    else:\n",
    "        data = json_data\n",
    "\n",
    "    # Create the root node\n",
    "    root = Node(\"Root\")\n",
    "\n",
    "    # Build the tree\n",
    "    create_tree(data, root)\n",
    "\n",
    "    # Print the tree structure\n",
    "    for pre, _, node in RenderTree(root):\n",
    "        print(f\"{pre}{node.name}\")"
   ]
  },
  {
   "cell_type": "markdown",
   "metadata": {},
   "source": [
    "## 2. AWS IoT SiteWise Asset Generation\n",
    "\n",
    "In this module, we'll walk through the process of using Amazon Bedrock to automatically generate AWS IoT SiteWise assets based on industrial context. This process involves three main steps:\n",
    "\n",
    "1. Defining a custom tool for Amazon Bedrock's Converse API that specifies the structure and requirements for SiteWise asset generation.\n",
    "2. Retrieving relevant context from a previously created TIA (Totally Integrated Automation) project.\n",
    "3. Using this context to prompt Amazon Bedrock to generate a schema for AWS IoT SiteWise assets."
   ]
  },
  {
   "cell_type": "markdown",
   "metadata": {},
   "source": [
    "### 2.1 Defining the AWS IoT SiteWise Asset Generation Tool for Amazon Bedrock\n",
    "\n",
    "The following code defines a tool object for Amazon Bedrock's Converse API, specifying the structure and requirements for generating AWS IoT SiteWise Assets"
   ]
  },
  {
   "cell_type": "code",
   "execution_count": null,
   "metadata": {},
   "outputs": [],
   "source": [
    "tool_object_sitewise_assets = [\n",
    "    {\n",
    "        \"toolSpec\": {\n",
    "            \"name\": \"sitewise_assets\",\n",
    "            \"description\": \"Create AWS IoT Sitewise Assets\",\n",
    "            \"inputSchema\": {\n",
    "                \"json\": {\n",
    "                    \"type\": \"object\",\n",
    "                    \"properties\": {\n",
    "                        \"assets\": {\n",
    "                            \"type\": \"array\",\n",
    "                            \"items\": {\n",
    "                                \"type\": \"object\",\n",
    "                                \"properties\": {\n",
    "                                    \"assetExternalId\": {\n",
    "                                        \"type\": \"string\",\n",
    "                                        \"description\": \"prefix this assetName with eID_ and relpace blank spaces with _\"\n",
    "                                    },\n",
    "                                    \"assetName\": {\n",
    "                                        \"type\": \"string\",\n",
    "                                        \"description\": \"A two to three word name of the asset prefixed with GenAI\",\n",
    "                                    },\n",
    "                                    \"assetModelExternalId\": {\n",
    "                                        \"type\": \"string\",\n",
    "                                        \"description\": \"the appropriate model eID_ for the asset \",\n",
    "                                        \"enum\": [\"eID_General_Cell\", \"eID_Production_Unit\", \"eID_Regional_Unit\", \"eID_Enterprise_Unit\"]\n",
    "                                    }                                  \n",
    "                                }\n",
    "                            }\n",
    "                        }\n",
    "                    },\n",
    "                    \"required\": [\n",
    "                        \"assets\",\n",
    "                    ]\n",
    "                }\n",
    "            }\n",
    "        }\n",
    "    }\n",
    "]\n"
   ]
  },
  {
   "cell_type": "markdown",
   "metadata": {},
   "source": [
    "### 2.2 Retrieve Context from the TIA Project in the previous exercise\n",
    "\n",
    "To proceed with our asset generation, we'll first retrieve the TIA Portal metadata from the file ```tia_portal_meta.txt``` created in the previous chapter."
   ]
  },
  {
   "cell_type": "code",
   "execution_count": null,
   "metadata": {},
   "outputs": [],
   "source": [
    "with open(\"tia_portal_meta.txt\", \"r\") as file:\n",
    "    tia_meta_data = file.read()\n",
    "\n",
    "print(tia_meta_data)"
   ]
  },
  {
   "cell_type": "markdown",
   "metadata": {},
   "source": [
    "### 2.3. Prompt Amazon Bedrock to generate the AWS IoT SiteWise Assets Schema\n",
    "\n",
    "Now that we have our TIA Portal metadata and the defined AWS IoT SiteWise Asset generation tool, we'll use Amazon Bedrock to create the JSON schema for our assets. \n",
    "This schema will be suitable for bulk import into AWS IoT SiteWise. \n"
   ]
  },
  {
   "cell_type": "code",
   "execution_count": null,
   "metadata": {},
   "outputs": [],
   "source": [
    "# The exported tia_meta_data serve as context\n",
    "context = tia_meta_data       \n",
    "\n",
    "# Define prompt for Amazon Bedrock to generate AWS IoT SiteWise asset JSON schema\n",
    "prompt = \"\"\"Please use the sitewise_assets tool to generate the a JSON schema,                  \n",
    "to create assets for all cells for meta-data-bulk-import in AWS IoT Sitewise \n",
    "based on the content within the <content> tags\"\"\"                                               \n",
    "\n",
    "# Call Amazon Bedrock with prompt and metadata to generate AWS IoT SiteWise assets schema\n",
    "assets_schema = call_bedrock (prompt, context, tool_object_sitewise_assets)\n",
    "\n",
    "# Pretty print the generated schema with proper JSON formatting\n",
    "print(json.dumps(assets_schema, indent=4))"
   ]
  },
  {
   "cell_type": "code",
   "execution_count": null,
   "metadata": {},
   "outputs": [],
   "source": [
    "# Visualize the JSON schema\n",
    "visualize_json(assets_schema)"
   ]
  },
  {
   "cell_type": "code",
   "execution_count": null,
   "metadata": {},
   "outputs": [],
   "source": [
    "# The schema structure includes an empty asset models dictionary.\n",
    "asset_models = {\"assetModels\": []}\n",
    "modified_schema = {**asset_models, **assets_schema}\n",
    "\n",
    "#Write the assets schema to a JSON file\n",
    "with open(\"genai_sitewise_assets_schema.json\", \"w\") as file:\n",
    "    json.dump(modified_schema, file, indent=4)"
   ]
  },
  {
   "cell_type": "markdown",
   "metadata": {},
   "source": [
    "## 3. AWS IoT SiteWise Assets Hierarchy Generation\n",
    "\n",
    "In this module, we'll walk through the process of using Amazon Bedrock to automatically generate the AWS IoT SiteWise asset hierarchy based on our industrial facility's structure. This process involves three main steps:\n",
    "\n",
    "1. Defining the AWS IoT SiteWise Asset Generation Tool for Amazon Bedrock: We'll create a  tool that specifies the structure and requirements for generating AWS IoT SiteWise Hierarhcy assets.\n",
    "\n",
    "2. Retrieving Context from the TIA Project: We'll use the extracted information from the TIA project, providing necessary context for asset generation.\n",
    "\n",
    "3. Prompting Bedrock to generate the AWS IoT Assets Schema: Using the defined tool and retrieved context, we'll prompt Amazon Bedrock to generate a comprehensive AWS IoT SiteWise asset hierarchy schema.\n",
    "\n"
   ]
  },
  {
   "cell_type": "markdown",
   "metadata": {},
   "source": [
    "### 3.1. Defining the AWS IoT SiteWise Asset Hierarchy Tool for Amazon Bedrock\n",
    "\n",
    "Now, we will perform the same procedure to create a hierarchy of assets in AWS IoT Sitewise. As in the previous chapter, we will need to define the Amazon Bedrock Tool for the hierarchy:"
   ]
  },
  {
   "cell_type": "code",
   "execution_count": null,
   "metadata": {},
   "outputs": [],
   "source": [
    "child_asset_eIDs = [asset[\"assetExternalId\"] for asset in assets_schema[\"assets\"]]\n",
    "child_asset_names = [asset[\"assetName\"] for asset in assets_schema[\"assets\"]]\n",
    "\n",
    "tool_object_sitewise_hierarchy = [\n",
    "    {\n",
    "        \"toolSpec\": {\n",
    "            \"name\": \"sitewise_assets_hierarchy\",\n",
    "            \"description\": \"Create AWS IoT Sitewise Assets Hierarchy\",\n",
    "            \"inputSchema\": {\n",
    "                \"json\": {\n",
    "                    \"type\": \"object\",\n",
    "                    \"properties\": {\n",
    "                        \"assets\": {\n",
    "                            \"type\": \"array\",\n",
    "                            \"items\": {\n",
    "                                \"type\": \"object\",\n",
    "                                \"properties\": {\n",
    "                                    \"assetExternalId\": {\n",
    "                                        \"type\": \"string\",\n",
    "                                        \"description\": \"The eID_ of the parent asset\",\n",
    "                                        \"enum\": [\n",
    "                                            \"eID_Forming_Unit\",\n",
    "                                            \"eID_Component_Fabrication_Unit\"\n",
    "                                        ]\n",
    "                                    },\n",
    "                                    \"assetName\": {\n",
    "                                        \"type\": \"string\",\n",
    "                                        \"description\": \"the asset name of the parent asset\",\n",
    "                                        \"enum\": [\n",
    "                                            \"Forming Unit\",\n",
    "                                            \"Component Fabrication Unit\"\n",
    "                                        ]\n",
    "                                    },                                    \n",
    "                                    \"assetModelExternalId\": {\n",
    "                                        \"type\": \"string\",\n",
    "                                        \"description\": \"the appropriate model eID_ for the parent asset\",\n",
    "                                        \"enum\": [\n",
    "                                            \"eID_Production_Unit\"\n",
    "                                        ]\n",
    "                                    },\n",
    "                                    \"assetHierarchies\": {\n",
    "                                        \"type\": \"array\",\n",
    "                                        \"description\": \"List of hierarchies that define relationships between parent and child assets\",\n",
    "                                        \"items\": {\n",
    "                                            \"type\": \"object\",\n",
    "                                            \"properties\": {\n",
    "                                                \"externalId\": {\n",
    "                                                    \"type\": \"string\",\n",
    "                                                    \"description\": \"The external ID defining the relationship between parent and child assets\",\n",
    "                                                    \"enum\": [\"eID_Production-Cell\"]\n",
    "                                                },\n",
    "                                                \"childAssetExternalId\": {\n",
    "                                                    \"type\": \"string\",\n",
    "                                                    \"description\": \"The external ID of the child asset eID_ in the hierarchy\",\n",
    "                                                    \"enum\": child_asset_eIDs\n",
    "                                                }\n",
    "                                            },\n",
    "                                            \"required\": [\n",
    "                                                \"externalId\",\n",
    "                                                \"childAssetExternalId\"\n",
    "                                            ]\n",
    "                                        }\n",
    "                                    }\n",
    "                                },\n",
    "                                \"required\": [\n",
    "                                    \"assetExternalId\",\n",
    "                                    \"assetName\",\n",
    "                                    \"assetModelExternalId\"\n",
    "                                ]\n",
    "                            }\n",
    "                        }\n",
    "                    },\n",
    "                    \"required\": [\n",
    "                        \"assets\"\n",
    "                    ]\n",
    "                }\n",
    "            }\n",
    "        }\n",
    "    }\n",
    "]"
   ]
  },
  {
   "cell_type": "markdown",
   "metadata": {},
   "source": [
    "### 3.2 Prompt Amazon Bedrock to generate the AWS IoT Sitewise Assets Hierarchy Schema\n",
    "\n",
    "Now that we have our contextual data, we'll use Amazon Bedrock to automatically generate the AWS IoT SiteWise asset hierarchy schema. \n",
    "This step will use generative AI to create a structured representation of our industrial assets and their relationships."
   ]
  },
  {
   "cell_type": "code",
   "execution_count": null,
   "metadata": {},
   "outputs": [],
   "source": [
    "# The exported tia_meta_data serve as context\n",
    "context = tia_meta_data\n",
    "\n",
    "# Define prompt for Amazon Bedrock to generate AWS IoT SiteWise asset JSON schema\n",
    "prompt = \"\"\"Please use the sitewise_assets_hierarchy tool to generate a JSON schema \n",
    "to assets hierarchy between parents and child assets for all cells for meta-data-bulk-import \n",
    "in AWS IoT Sitewise based on the content within the <content> tags.\"\"\"\n",
    "\n",
    "# Call Amazon Bedrock with prompt and metadata to generate AWS IoT SiteWise Assets Hierarchy Schema\n",
    "hierarchy_schema = call_bedrock (prompt, context, tool_object_sitewise_hierarchy)\n",
    "\n",
    "# Pretty print the generated schema with proper JSON formatting\n",
    "print(json.dumps(hierarchy_schema, indent=4))"
   ]
  },
  {
   "cell_type": "code",
   "execution_count": null,
   "metadata": {},
   "outputs": [],
   "source": [
    "# Visualize the JSON schema\n",
    "visualize_json(hierarchy_schema)"
   ]
  },
  {
   "cell_type": "code",
   "execution_count": null,
   "metadata": {},
   "outputs": [],
   "source": [
    "#The schema structure must always include asset models dictionary.\n",
    "asset_models = {\"assetModels\": []}\n",
    "modified_schema = {**asset_models, **hierarchy_schema}\n",
    "\n",
    "#Write the assets schema to a JSON file\n",
    "with open(\"genai_sitewise_hierarchy_schema.json\", \"w\") as file:\n",
    "    json.dump(modified_schema, file, indent=4)"
   ]
  },
  {
   "cell_type": "markdown",
   "metadata": {},
   "source": [
    "## 4. Create SFC Sitewise target adapter config files\n",
    "\n",
    "In this section, we'll use Amazon Bedrock to generate Shop Floor Connectivity (SFC) configurations for AWS IoT SiteWise.\\\n",
    "SFC is a config-only framework that facilitates data ingestion from industrial equipment to various AWS services.\n",
    "\n",
    "SFC requires two main types of configurations:\n",
    "1. Source configurations: Define how to collect data from industrial equipment (e.g., protocols like SIEMENS S7, Ethernet/IP, MQTT)\n",
    "2. Target configurations: Specify how to send data to AWS services (e.g., AWS IoT SiteWise, Amazon Timestream, Amazon S3)\n",
    "\n",
    "We'll focus on:\n",
    "1. Defining a tool for generating SFC SiteWise target adapter configs, as specified in the [SFC Sitewise Target Config Schema Specification](https://github.com/aws-samples/shopfloor-connectivity/blob/mainline/docs/targets/aws-sitewise.md#awssitewisetargetconfiguration).\n",
    "2. Using Amazon Bedrock to create the SFC target schema.\n",
    "\n",
    "This process will automate the creation of configuration files essential for data collection and transmission to AWS IoT SiteWise."
   ]
  },
  {
   "cell_type": "markdown",
   "metadata": {},
   "source": [
    "### 4.1 Tool to generate SFC Sitewise target adapter config\n",
    "\n",
    "As before, we will need to define a tool to provide as input to the Amazon Bedrock API. But first we'll extract all the data paths that SFC has discovered from our TIA Portal project. \n",
    "These data paths represent the specific points of data collection within our industrial system. This information is then expected as input to the definition of the tool object.\n",
    "\n",
    "The following code reads a previously generated AWS IoT SiteWise target configuration file and extracts the DataPath for each property of every asset:"
   ]
  },
  {
   "cell_type": "code",
   "execution_count": null,
   "metadata": {},
   "outputs": [],
   "source": [
    "# Extracting all data paths dicovered by SFC from TIA portal project\n",
    "\n",
    "with open(\"include_generated_swtarget.json\", 'r') as file:\n",
    "    data = json.load(file)\n",
    "    data_paths = [prop[\"DataPath\"] for asset in data[\"Assets\"] for prop in asset[\"Properties\"]]          \n",
    "#   print(data_paths)"
   ]
  },
  {
   "cell_type": "markdown",
   "metadata": {},
   "source": [
    "We will feed this data to Amazon Bedrock along with other contetual data like PLC project meta data, and available AWS IoT SiteWise asset models"
   ]
  },
  {
   "cell_type": "code",
   "execution_count": null,
   "metadata": {},
   "outputs": [],
   "source": [
    "asset_property_names = [\"Current_Step\", \"Input_Buffer\",\"Output_Buffer\", \"Seq_Running\",\"Product_ID\", \"VIN\", \"Seq_Timer\"]\n",
    "\n",
    "tool_object_sfc = [\n",
    "    {\n",
    "        \"toolSpec\": {\n",
    "            \"name\": \"SFC_SWTarget_tool\",\n",
    "            \"description\": \"Create SFC Configuration schema for AWS IoT SiteWise target adapter for data flow to AWS IoT SiteWise\",\n",
    "            \"inputSchema\": {\n",
    "                \"json\": {\n",
    "                    \"type\": \"object\",\n",
    "                    \"properties\": {\n",
    "                        \"Assets\": {\n",
    "                            \"type\": \"array\",\n",
    "                            \"items\": {\n",
    "                                \"type\": \"object\",\n",
    "                                \"properties\": {\n",
    "                                    \"AssetExternalId\": {\n",
    "                                        \"type\": \"string\",\n",
    "                                        \"description\": \"The eID_ of the sitewise assets\",\n",
    "                                        \"enum\": child_asset_eIDs\n",
    "                                            },\n",
    "                                    \"Properties\": {\n",
    "                                        \"type\": \"array\",\n",
    "                                        \"description\": \"Measurements in a sitewise asset and associated datastreams \",\n",
    "                                        \"items\": {\n",
    "                                            \"type\": \"object\",\n",
    "                                            \"properties\": {\n",
    "                                                \"DataPath\": {\n",
    "                                                    \"type\": \"string\",\n",
    "                                                    \"description\": \"The data stream that connects to sitewise asset properties\" ,\n",
    "                                                    \"enum\": data_paths\n",
    "                                                },\n",
    "                                                \"PropertyName\": {\n",
    "                                                    \"type\": \"string\",\n",
    "                                                    \"description\": \"only the configured measurements or asset properties in the sitewise asset\",\n",
    "                                                    \"enum\": [\"Current_Step\", \"Input_Buffer\",\"Output_Buffer\", \"Seq_Running\",\"Product_ID\", \"VIN\", \"Seq_Timer\"]          \n",
    "                                                }\n",
    "                                            },\n",
    "                                            \"required\": [\n",
    "                                                \"PropertyName\"\n",
    "                                            ]\n",
    "                                        }\n",
    "                                    }\n",
    "                                },\n",
    "                                \"required\": [\n",
    "                                    \"assetExternalId\"\n",
    "                                ]\n",
    "                            }\n",
    "                        },\n",
    "                        \"Region\": {\n",
    "                            \"type\": \"string\",\n",
    "                            \"default\": f\"{aws_region}\"\n",
    "                        },\n",
    "                        \"TargetType\": {\n",
    "                            \"type\": \"string\",\n",
    "                            \"default\": \"AWS-SITEWISE\"\n",
    "                        }\n",
    "                    },\n",
    "                    \"required\": [\n",
    "                        \"Assets\",\n",
    "                        \"Region\",\n",
    "                        \"TargetType\"\n",
    "                    ]\n",
    "                }\n",
    "            }\n",
    "        }\n",
    "    },\n",
    "]\n"
   ]
  },
  {
   "cell_type": "markdown",
   "metadata": {},
   "source": [
    "### 4.2 Prompt Amazon Bedrock to generate the SFC Target Schema\n",
    "\n",
    "In this step, we'll leverage Amazon Bedrock to automatically match the extracted data paths with the appropriate AWS IoT SiteWise properties and generate a complete SFC target configuration in JSON format. This process automates the complex task of mapping industrial data points to their corresponding cloud-based asset properties.\n",
    "\n"
   ]
  },
  {
   "cell_type": "code",
   "execution_count": null,
   "metadata": {},
   "outputs": [],
   "source": [
    "context = tia_meta_data + \"\"\"\n",
    "VIN : 13_VIN\n",
    "13_Seq_Start is same as Sequence_Running\n",
    "Seq_Complete:sequence isnot active\n",
    "\"\"\"           \n",
    "\n",
    "# Define prompt for Amazon Bedrock to generate SFC SiteWise Target Configuration JSON schema\n",
    "prompt = \"\"\"Please use the SFC_SWTarget_tool to generate the JSON schema for Shopfloor-Connectivity tool\n",
    "config file for Sitewise target. For every sitewise asset and for every asset property described in the tool\n",
    "map a data stream path to it based on the content within the <content> tags.\"\"\" \n",
    "\n",
    "# Call Amazon Bedrock with prompt and metadata to generate the SFC SiteWise Target Configuration JSON schema\n",
    "sfc_sw_schema = call_bedrock(prompt,context, tool_object_sfc)\n",
    "\n",
    "print(json.dumps(sfc_sw_schema, indent=4))"
   ]
  },
  {
   "cell_type": "code",
   "execution_count": null,
   "metadata": {},
   "outputs": [],
   "source": [
    "# Write the AWS IoT SiteWise schema configuration to a JSON file with proper formatting and UTF-8 encoding\n",
    "with open('genai_sfc_sitewise_target_conf.json', 'w', encoding='utf-8') as f:\n",
    "    json.dump(sfc_sw_schema, f, ensure_ascii=False, indent=4)"
   ]
  },
  {
   "cell_type": "code",
   "execution_count": null,
   "metadata": {},
   "outputs": [],
   "source": [
    "# Visualize the JSON schema\n",
    "visualize_json(sfc_sw_schema)"
   ]
  },
  {
   "cell_type": "markdown",
   "metadata": {},
   "source": [
    "<div>\n",
    "<span style=\"font-size: 2em;\">🎉</span><b> Congratulations!</b> You have now successfully generated AWS IoT SiteWise asset definitions and Shop Floor Connectivity (SFC) configurations using Amazon Bedrock's Generative AI capabilities. You should now have three files generated after executing this workshop. \n",
    "\n",
    "<span style=\"padding-left: 2em;\">&#x2611; Make sure you can locate these files the root folder before moving ahead.</span>\n",
    "\n",
    "<ol style=\"padding-left: 5em;\">\n",
    "    <li><span style=\"font-family: monospace;\">genai_sitewise_assets_schema.json</span></li>\n",
    "    <li><span style=\"font-family: monospace;\">genai_sitewise_hierarchy_schema.json</span></li>\n",
    "    <li><span style=\"font-family: monospace;\">genai_sfc_sitewise_target_conf.json</span></li>\n",
    "</ol>\n",
    "\n",
    "<p align=\"right\">\n",
    "        ⏭️<em> Now let's continue with Notebook 03 to learn how to use these files <em>\n",
    "    </p></div>"
   ]
  },
  {
   "cell_type": "markdown",
   "metadata": {},
   "source": [
    "<div class=\"alert alert-block alert-info padding-left: 2em;\">\n",
    "<span style=\"font-size: 1.5em;\">💡</span> Try experimenting with the prompts by changing the wording, adding more context, or adjusting parameters to observe how the responses differ each time. This exploration will help you understand the flexibility and power of generative AI in industrial asset management.\n",
    "</div>"
   ]
  }
 ],
 "metadata": {
  "kernelspec": {
   "display_name": "myenv",
   "language": "python",
   "name": "python3"
  },
  "language_info": {
   "codemirror_mode": {
    "name": "ipython",
    "version": 3
   },
   "file_extension": ".py",
   "mimetype": "text/x-python",
   "name": "python",
   "nbconvert_exporter": "python",
   "pygments_lexer": "ipython3",
   "version": "3.12.7"
  }
 },
 "nbformat": 4,
 "nbformat_minor": 2
}
